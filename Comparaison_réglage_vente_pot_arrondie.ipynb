{
  "nbformat": 4,
  "nbformat_minor": 0,
  "metadata": {
    "colab": {
      "provenance": [],
      "authorship_tag": "ABX9TyNE+TP3/bOfw+EClES3XFm+",
      "include_colab_link": true
    },
    "kernelspec": {
      "name": "python3",
      "display_name": "Python 3"
    },
    "language_info": {
      "name": "python"
    }
  },
  "cells": [
    {
      "cell_type": "markdown",
      "metadata": {
        "id": "view-in-github",
        "colab_type": "text"
      },
      "source": [
        "<a href=\"https://colab.research.google.com/github/alexdoss/git_practivce/blob/main/Comparaison_r%C3%A9glage_vente_pot_arrondie.ipynb\" target=\"_parent\"><img src=\"https://colab.research.google.com/assets/colab-badge.svg\" alt=\"Open In Colab\"/></a>"
      ]
    },
    {
      "cell_type": "code",
      "execution_count": null,
      "metadata": {
        "colab": {
          "base_uri": "https://localhost:8080/"
        },
        "id": "_mBBSo0d1XIQ",
        "outputId": "5bcac991-324b-4843-d7b7-20b11ccad368"
      },
      "outputs": [
        {
          "output_type": "stream",
          "name": "stdout",
          "text": [
            "   invendu_potentiel  vente_potentielle  taux_rupture_potentielle  \\\n",
            "0           0.347537            39091.0                   0.20171   \n",
            "\n",
            "   VAZ_potentielle  \n",
            "0         0.264997  \n"
          ]
        }
      ],
      "source": [
        "import pandas as pd\n",
        "import numpy as np\n",
        "import math\n",
        "\n",
        "#N'oublie pas de nommer la première colonne\n",
        "#remplacer les espace par un tiret du six manuellement dans le csv et charger le csv dans collab puis appliquer le code ci-dessous\n",
        "forecast = pd.read_csv(\"/content/fichier_test.csv\", delimiter=\";\")\n",
        "def eliminate_nan(forecast):\n",
        "  return forecast.dropna()\n",
        "\n",
        "forecast1 = eliminate_nan(forecast)\n",
        "\n",
        "data_analyzed = forecast1[['ID', 'Nitro', '05/09/2024', '05/09/2024_fournis', '05/09/2024_rupture']].copy()\n",
        "\n",
        "\n",
        "#cette fonction calcul les invendus potentiel. hypothèse vente potentielle = 1.2\n",
        "#Pour utiliser cette fonction, définissez la date de référence de la comparaison Nitro vs réel et débrouille toi pour la remplacer par la date dont tu as besoin. Concrètement, change le nom de la colonne.\n",
        "def function_invendu_pot(row):\n",
        "  if ((row['05/09/2024_rupture'] == True) & ((row['Nitro']-math.ceil(row['05/09/2024']*1.2))<=0)):\n",
        "    return 0\n",
        "  elif ((row['05/09/2024_rupture'] == True) & ((row['Nitro']- math.ceil(row['05/09/2024']*1.2))>0)):\n",
        "    return row['Nitro']-math.ceil(row['05/09/2024']*1.2)\n",
        "  elif ((row['05/09/2024_rupture']== False) & (row['Nitro']<row['05/09/2024'])):\n",
        "    return 0\n",
        "  else:\n",
        "    return row['Nitro']-row['05/09/2024']\n",
        "\n",
        "\n",
        "data_analyzed['invendu_potentiel']=data_analyzed.apply(function_invendu_pot, axis=1)\n",
        "data_analyzed['rupture_potentielle']=data_analyzed['invendu_potentiel'].apply(lambda x: True if x == 0 else False)\n",
        "\n",
        "def function_vente_potentielle(row):\n",
        "  if ((row['05/09/2024_rupture'] == True) & ((row['Nitro']-math.ceil(row['05/09/2024']*1.2))<=0)):\n",
        "    return row['Nitro']\n",
        "  elif ((row['05/09/2024_rupture'] == True) & ((row['Nitro']-math.ceil(row['05/09/2024']*1.2))>0)):\n",
        "    return math.ceil(row['05/09/2024']*1.2)\n",
        "  elif ((row['05/09/2024_rupture']== False) & (row['Nitro']<row['05/09/2024'])):\n",
        "    return row['Nitro']\n",
        "  else :\n",
        "    return row['05/09/2024']\n",
        "\n",
        "data_analyzed['vente_potentielle']=data_analyzed.apply(function_vente_potentielle, axis=1)\n",
        "\n",
        "invendu_potentiel= np.sum(data_analyzed['invendu_potentiel'])/np.sum(data_analyzed['Nitro'])\n",
        "vente_potentielle = np.sum(data_analyzed['vente_potentielle'])\n",
        "taux_rupture_potentielle = np.sum(data_analyzed['rupture_potentielle']==True)/len(data_analyzed['rupture_potentielle'])\n",
        "VAZ_potentielle = data_analyzed.loc[data_analyzed['rupture_potentielle']==True,'vente_potentielle'].sum()/data_analyzed['vente_potentielle'].sum()\n",
        "\n",
        "synthesis_table = [\n",
        "    {\n",
        "    'invendu_potentiel': invendu_potentiel,\n",
        "    'vente_potentielle': vente_potentielle,\n",
        "    'taux_rupture_potentielle': taux_rupture_potentielle,\n",
        "    'VAZ_potentielle': VAZ_potentielle\n",
        "}\n",
        "]\n",
        "\n",
        "synthesis = pd.DataFrame(synthesis_table)\n",
        "print(synthesis)\n",
        "synthesis.to_csv('synthesis.csv', index=False)\n",
        "data_analyzed.to_csv('data_analyzed.csv', index=False)"
      ]
    },
    {
      "cell_type": "code",
      "source": [
        "tx_invendu_reel = (np.sum(data_analyzed['05/09/2024_fournis'])-np.sum(data_analyzed['05/09/2024']))/np.sum(data_analyzed['05/09/2024_fournis'])\n",
        "vente_reel = np.sum(data_analyzed['05/09/2024'])\n",
        "tx_rupture_reel = np.sum(data_analyzed['05/09/2024_rupture']==True)/len(data_analyzed['05/09/2024_rupture'])\n",
        "VAZ_reel = data_analyzed.loc[data_analyzed['05/09/2024_rupture']==True,'05/09/2024'].sum()/data_analyzed['05/09/2024'].sum()\n",
        "\n",
        "reel_synthesis_table = [\n",
        "    {\n",
        "    'tx_invendu_reel': tx_invendu_reel,\n",
        "    'vente_reel': vente_reel,\n",
        "    'tx_rupture_reel': tx_rupture_reel,\n",
        "    'VAZ_reel': VAZ_reel\n",
        "}\n",
        "]\n",
        "reel_synthesis = pd.DataFrame(reel_synthesis_table)\n",
        "print(reel_synthesis)\n",
        "reel_synthesis.to_csv('reel_synthesis_table.csv', index=False)"
      ],
      "metadata": {
        "colab": {
          "base_uri": "https://localhost:8080/"
        },
        "id": "k2c9NhOu1uVj",
        "outputId": "ef6e3999-5aff-400d-c06a-8f223dd4a518"
      },
      "execution_count": null,
      "outputs": [
        {
          "output_type": "stream",
          "name": "stdout",
          "text": [
            "   tx_invendu_reel  vente_reel  tx_rupture_reel  VAZ_reel\n",
            "0         0.270508       35314         0.150546  0.165827\n"
          ]
        }
      ]
    }
  ]
}